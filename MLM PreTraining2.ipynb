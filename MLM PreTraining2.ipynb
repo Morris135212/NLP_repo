{
 "cells": [
  {
   "cell_type": "code",
   "execution_count": 1,
   "id": "0bf78928",
   "metadata": {},
   "outputs": [
    {
     "data": {
      "text/html": [
       "<div>\n",
       "<style scoped>\n",
       "    .dataframe tbody tr th:only-of-type {\n",
       "        vertical-align: middle;\n",
       "    }\n",
       "\n",
       "    .dataframe tbody tr th {\n",
       "        vertical-align: top;\n",
       "    }\n",
       "\n",
       "    .dataframe thead th {\n",
       "        text-align: right;\n",
       "    }\n",
       "</style>\n",
       "<table border=\"1\" class=\"dataframe\">\n",
       "  <thead>\n",
       "    <tr style=\"text-align: right;\">\n",
       "      <th></th>\n",
       "      <th>labels</th>\n",
       "      <th>contents</th>\n",
       "    </tr>\n",
       "  </thead>\n",
       "  <tbody>\n",
       "    <tr>\n",
       "      <th>0</th>\n",
       "      <td>game</td>\n",
       "      <td>EDG出线希望大增！有这个老师的示范还怕淘汰？ ★游戏马蹄铁原创，禁止网站或个人商用盗取，违...</td>\n",
       "    </tr>\n",
       "    <tr>\n",
       "      <th>1</th>\n",
       "      <td>game</td>\n",
       "      <td>CSGO外挂“大牛”制售者一脸懵逼 家中被CT抓个现行 特大喜讯！CSGO外挂“大牛”制售者...</td>\n",
       "    </tr>\n",
       "    <tr>\n",
       "      <th>2</th>\n",
       "      <td>game</td>\n",
       "      <td>LOL女警再遭削弱引发玩家不满，胜率都倒数了还砍？有病！ 对于很多喜欢ADC的玩家来说，前几...</td>\n",
       "    </tr>\n",
       "    <tr>\n",
       "      <th>3</th>\n",
       "      <td>game</td>\n",
       "      <td>《沃克梦》：口袋妖怪既视感？你要捕获的不是精灵而是员工 安智游戏推荐：精灵球、皮卡丘、来自真...</td>\n",
       "    </tr>\n",
       "    <tr>\n",
       "      <th>4</th>\n",
       "      <td>game</td>\n",
       "      <td>团战可以输他们必须死！盘点团战中最烦人的技能 大家都知道，峡谷中的每个英雄都有各自的特点，有...</td>\n",
       "    </tr>\n",
       "    <tr>\n",
       "      <th>5</th>\n",
       "      <td>game</td>\n",
       "      <td>LOL今日美服：养蜂人原画上线香炉大改加强！ ★游戏马蹄铁原创，禁止网站或个人商用盗取，违者...</td>\n",
       "    </tr>\n",
       "    <tr>\n",
       "      <th>6</th>\n",
       "      <td>game</td>\n",
       "      <td>DNF韩服新增龙枪和黑枪职业, 史诗武器属性一览 DNF韩服更新了魔枪士两个职业，龙枪和黑枪...</td>\n",
       "    </tr>\n",
       "    <tr>\n",
       "      <th>7</th>\n",
       "      <td>game</td>\n",
       "      <td>英雄联盟7.18测试服补丁：多款S7决赛皮肤上线，多个英雄改动 7.18测试服为期三周的改动...</td>\n",
       "    </tr>\n",
       "    <tr>\n",
       "      <th>8</th>\n",
       "      <td>game</td>\n",
       "      <td>LOL解说十一左拥右抱，泽元隔空喊话记得：学学人家，再看看你！ LOL解说记得其实从当初来到...</td>\n",
       "    </tr>\n",
       "    <tr>\n",
       "      <th>9</th>\n",
       "      <td>game</td>\n",
       "      <td>天下ACG是一家，除了二次元，这款音游里还有游戏玩家的“爱\"。 《同步音律》（曾用名《同步音...</td>\n",
       "    </tr>\n",
       "    <tr>\n",
       "      <th>10</th>\n",
       "      <td>fashion</td>\n",
       "      <td>今夏不学“露肩杀”,你还好意思说自己是时尚girl? 明星范儿春风十里,不如穿一字肩的你。露...</td>\n",
       "    </tr>\n",
       "    <tr>\n",
       "      <th>11</th>\n",
       "      <td>fashion</td>\n",
       "      <td>入秋必备的针织衫，这7款美到家了！ 说到入秋必备单品，除了前段时间写的卫衣，其实针织衫也算其...</td>\n",
       "    </tr>\n",
       "    <tr>\n",
       "      <th>12</th>\n",
       "      <td>fashion</td>\n",
       "      <td>别再傻傻的花大价钱去染发了？省钱小物，少年白老年轻松遮盖 每隔一段时间，就想要换个发型，吹拉...</td>\n",
       "    </tr>\n",
       "    <tr>\n",
       "      <th>13</th>\n",
       "      <td>fashion</td>\n",
       "      <td>吴昕和沈梦辰的时尚icon争夺战,谁是最后的胜者 今天的标题之所以用时尚icon,而不是选择...</td>\n",
       "    </tr>\n",
       "    <tr>\n",
       "      <th>14</th>\n",
       "      <td>fashion</td>\n",
       "      <td>连衣裙别乱买,今年流行的是这条! 点击题目下方让你更时尚,轻松学会美容瘦身,时尚搭配!白色是...</td>\n",
       "    </tr>\n",
       "    <tr>\n",
       "      <th>15</th>\n",
       "      <td>fashion</td>\n",
       "      <td>球鞋 | 既然LV都认同了老爸鞋的风潮，这几款高性价比的老爸鞋你一定要知道 对的，你没看错，...</td>\n",
       "    </tr>\n",
       "    <tr>\n",
       "      <th>16</th>\n",
       "      <td>fashion</td>\n",
       "      <td>章泽天：谁说“时尚”这门课我拿不了满分？但这不是重点... 11月7日，CHANEL在成都举...</td>\n",
       "    </tr>\n",
       "    <tr>\n",
       "      <th>17</th>\n",
       "      <td>fashion</td>\n",
       "      <td>服装搭配:秋季OL通勤装搭配Look,舒适通勤装穿出时尚气质感! 服装搭配:今天给大家带来的...</td>\n",
       "    </tr>\n",
       "    <tr>\n",
       "      <th>18</th>\n",
       "      <td>fashion</td>\n",
       "      <td>流行女生中短发发型图欣赏 下面小编为大家带来几款流行的女生中短发发型设计，简单时尚，打理起来...</td>\n",
       "    </tr>\n",
       "    <tr>\n",
       "      <th>19</th>\n",
       "      <td>fashion</td>\n",
       "      <td>2017嘉人中国风 | 还记得大幂幂唐嫣的包袋哲学吗？ 12月7日，《嘉人 Marie Cl...</td>\n",
       "    </tr>\n",
       "    <tr>\n",
       "      <th>20</th>\n",
       "      <td>houseliving</td>\n",
       "      <td>140㎡现代简约三居 墙面设计不落俗套 这是一套现代简约风格的装修案例,融合了东西方的文化特...</td>\n",
       "    </tr>\n",
       "    <tr>\n",
       "      <th>21</th>\n",
       "      <td>houseliving</td>\n",
       "      <td>雅居美墅,探寻建筑深层次的灵魂之美  透过冰冷的水泥建材,触摸建筑的细纹脉络,聆听居所的浅语...</td>\n",
       "    </tr>\n",
       "    <tr>\n",
       "      <th>22</th>\n",
       "      <td>houseliving</td>\n",
       "      <td>10W银子花的肉痛,但是120㎡简欧三居效果还是蛮让人欣慰的!  福利提示:文章末尾可免费领...</td>\n",
       "    </tr>\n",
       "    <tr>\n",
       "      <th>23</th>\n",
       "      <td>houseliving</td>\n",
       "      <td>107㎡清新北欧三室两厅不到18万,客厅餐厅带阳台羡煞旁人  福利提示:文章末尾可免费领取4...</td>\n",
       "    </tr>\n",
       "    <tr>\n",
       "      <th>24</th>\n",
       "      <td>houseliving</td>\n",
       "      <td>只有75㎡的面积,却打造出了120㎡日式文艺家 屋主在上海打拼奋斗了几年,终于在上海安家落户...</td>\n",
       "    </tr>\n",
       "    <tr>\n",
       "      <th>25</th>\n",
       "      <td>houseliving</td>\n",
       "      <td>暖气片还能整出这么多幺蛾子？美观又好用，空调和地暖都用不上了！ 大家都听过暖气片，只是南方的...</td>\n",
       "    </tr>\n",
       "    <tr>\n",
       "      <th>26</th>\n",
       "      <td>houseliving</td>\n",
       "      <td>告别一成不变，飘窗这样设计美翻了 打一个哑谜：它美美的，很有情调。它不占多少空间，却很实用。...</td>\n",
       "    </tr>\n",
       "    <tr>\n",
       "      <th>27</th>\n",
       "      <td>houseliving</td>\n",
       "      <td>井柏然新家,原来明星家也可以这么帅! “家是一个可以把自己的东西表现出来的空间,你可以不用再...</td>\n",
       "    </tr>\n",
       "    <tr>\n",
       "      <th>28</th>\n",
       "      <td>houseliving</td>\n",
       "      <td>掌握这3个色彩搭配技巧，你家也能美成效果图! 随着人们审美的不断提高，家居装修颜色搭配再也不...</td>\n",
       "    </tr>\n",
       "    <tr>\n",
       "      <th>29</th>\n",
       "      <td>houseliving</td>\n",
       "      <td>127平两室两厅新家入住了 感觉就是不一样 给大家看看 房子装修完全是跟着自己的想法来的,有...</td>\n",
       "    </tr>\n",
       "  </tbody>\n",
       "</table>\n",
       "</div>"
      ],
      "text/plain": [
       "         labels                                           contents\n",
       "0          game  EDG出线希望大增！有这个老师的示范还怕淘汰？ ★游戏马蹄铁原创，禁止网站或个人商用盗取，违...\n",
       "1          game  CSGO外挂“大牛”制售者一脸懵逼 家中被CT抓个现行 特大喜讯！CSGO外挂“大牛”制售者...\n",
       "2          game  LOL女警再遭削弱引发玩家不满，胜率都倒数了还砍？有病！ 对于很多喜欢ADC的玩家来说，前几...\n",
       "3          game  《沃克梦》：口袋妖怪既视感？你要捕获的不是精灵而是员工 安智游戏推荐：精灵球、皮卡丘、来自真...\n",
       "4          game  团战可以输他们必须死！盘点团战中最烦人的技能 大家都知道，峡谷中的每个英雄都有各自的特点，有...\n",
       "5          game  LOL今日美服：养蜂人原画上线香炉大改加强！ ★游戏马蹄铁原创，禁止网站或个人商用盗取，违者...\n",
       "6          game  DNF韩服新增龙枪和黑枪职业, 史诗武器属性一览 DNF韩服更新了魔枪士两个职业，龙枪和黑枪...\n",
       "7          game  英雄联盟7.18测试服补丁：多款S7决赛皮肤上线，多个英雄改动 7.18测试服为期三周的改动...\n",
       "8          game  LOL解说十一左拥右抱，泽元隔空喊话记得：学学人家，再看看你！ LOL解说记得其实从当初来到...\n",
       "9          game  天下ACG是一家，除了二次元，这款音游里还有游戏玩家的“爱\"。 《同步音律》（曾用名《同步音...\n",
       "10      fashion  今夏不学“露肩杀”,你还好意思说自己是时尚girl? 明星范儿春风十里,不如穿一字肩的你。露...\n",
       "11      fashion  入秋必备的针织衫，这7款美到家了！ 说到入秋必备单品，除了前段时间写的卫衣，其实针织衫也算其...\n",
       "12      fashion  别再傻傻的花大价钱去染发了？省钱小物，少年白老年轻松遮盖 每隔一段时间，就想要换个发型，吹拉...\n",
       "13      fashion  吴昕和沈梦辰的时尚icon争夺战,谁是最后的胜者 今天的标题之所以用时尚icon,而不是选择...\n",
       "14      fashion  连衣裙别乱买,今年流行的是这条! 点击题目下方让你更时尚,轻松学会美容瘦身,时尚搭配!白色是...\n",
       "15      fashion  球鞋 | 既然LV都认同了老爸鞋的风潮，这几款高性价比的老爸鞋你一定要知道 对的，你没看错，...\n",
       "16      fashion  章泽天：谁说“时尚”这门课我拿不了满分？但这不是重点... 11月7日，CHANEL在成都举...\n",
       "17      fashion  服装搭配:秋季OL通勤装搭配Look,舒适通勤装穿出时尚气质感! 服装搭配:今天给大家带来的...\n",
       "18      fashion  流行女生中短发发型图欣赏 下面小编为大家带来几款流行的女生中短发发型设计，简单时尚，打理起来...\n",
       "19      fashion  2017嘉人中国风 | 还记得大幂幂唐嫣的包袋哲学吗？ 12月7日，《嘉人 Marie Cl...\n",
       "20  houseliving  140㎡现代简约三居 墙面设计不落俗套 这是一套现代简约风格的装修案例,融合了东西方的文化特...\n",
       "21  houseliving  雅居美墅,探寻建筑深层次的灵魂之美  透过冰冷的水泥建材,触摸建筑的细纹脉络,聆听居所的浅语...\n",
       "22  houseliving  10W银子花的肉痛,但是120㎡简欧三居效果还是蛮让人欣慰的!  福利提示:文章末尾可免费领...\n",
       "23  houseliving  107㎡清新北欧三室两厅不到18万,客厅餐厅带阳台羡煞旁人  福利提示:文章末尾可免费领取4...\n",
       "24  houseliving  只有75㎡的面积,却打造出了120㎡日式文艺家 屋主在上海打拼奋斗了几年,终于在上海安家落户...\n",
       "25  houseliving  暖气片还能整出这么多幺蛾子？美观又好用，空调和地暖都用不上了！ 大家都听过暖气片，只是南方的...\n",
       "26  houseliving  告别一成不变，飘窗这样设计美翻了 打一个哑谜：它美美的，很有情调。它不占多少空间，却很实用。...\n",
       "27  houseliving  井柏然新家,原来明星家也可以这么帅! “家是一个可以把自己的东西表现出来的空间,你可以不用再...\n",
       "28  houseliving  掌握这3个色彩搭配技巧，你家也能美成效果图! 随着人们审美的不断提高，家居装修颜色搭配再也不...\n",
       "29  houseliving  127平两室两厅新家入住了 感觉就是不一样 给大家看看 房子装修完全是跟着自己的想法来的,有..."
      ]
     },
     "execution_count": 1,
     "metadata": {},
     "output_type": "execute_result"
    }
   ],
   "source": [
    "import pandas as pd\n",
    "df_train = pd.read_csv(\"./contents/chinese/train.tsv\", sep='\\t', header=None, names=[\"labels\", \"contents\"])\n",
    "df_dev = pd.read_csv(\"./contents/chinese/dev.tsv\", sep='\\t', header=None, names=[\"labels\", \"contents\"])\n",
    "df_dev"
   ]
  },
  {
   "cell_type": "code",
   "execution_count": 7,
   "id": "5b0cb03d",
   "metadata": {},
   "outputs": [],
   "source": [
    "import re\n",
    "\n",
    "with open(\"./contents/chinese/train.txt\", \"w\") as f:\n",
    "    for i, row in df_train.iterrows():\n",
    "        contents = re.sub('[？!！。.]', ' ', row[\"contents\"]).split()\n",
    "        for content in contents:\n",
    "            content = content.rstrip()+\"\\n\"\n",
    "            f.write(content)\n",
    "\n",
    "with open(\"./contents/chinese/dev.txt\", \"w\") as f:\n",
    "    for i, row in df_dev.iterrows():\n",
    "        contents = re.sub('[？!！。.]', ' ', row[\"contents\"]).split()\n",
    "        for content in contents:\n",
    "            content = content.rstrip()+\"\\n\"\n",
    "            f.write(content)\n",
    "        \n",
    "with open(\"./contents/chinese/train.txt\", \"r\") as f:\n",
    "    contents = f.readlines()"
   ]
  },
  {
   "cell_type": "markdown",
   "id": "6033d4b0",
   "metadata": {},
   "source": [
    "## Tokenizer"
   ]
  },
  {
   "cell_type": "code",
   "execution_count": 9,
   "id": "ab7d5daa",
   "metadata": {},
   "outputs": [],
   "source": [
    "from transformers import AutoTokenizer\n",
    "\n",
    "tokenizer = AutoTokenizer.from_pretrained(\"bert-base-chinese\")"
   ]
  },
  {
   "cell_type": "code",
   "execution_count": 10,
   "id": "17f5146a",
   "metadata": {},
   "outputs": [
    {
     "data": {
      "text/plain": [
       "21128"
      ]
     },
     "execution_count": 10,
     "metadata": {},
     "output_type": "execute_result"
    }
   ],
   "source": [
    "tokenizer.vocab_size"
   ]
  },
  {
   "cell_type": "code",
   "execution_count": 11,
   "id": "935ad233",
   "metadata": {
    "scrolled": true
   },
   "outputs": [
    {
     "data": {
      "text/plain": [
       "['[CLS]', '5000', '万', ',', '投', '资', '游', '戏', '该', '有', '多', '好', '[SEP]']"
      ]
     },
     "execution_count": 11,
     "metadata": {},
     "output_type": "execute_result"
    }
   ],
   "source": [
    "idx = tokenizer.encode(contents[0])\n",
    "tokenizer.convert_ids_to_tokens(idx)"
   ]
  },
  {
   "cell_type": "markdown",
   "id": "bbd66d51",
   "metadata": {},
   "source": [
    "## Model Definition"
   ]
  },
  {
   "cell_type": "code",
   "execution_count": 13,
   "id": "fde4948c",
   "metadata": {},
   "outputs": [
    {
     "name": "stderr",
     "output_type": "stream",
     "text": [
      "Some weights of the model checkpoint at bert-base-chinese were not used when initializing BertForMaskedLM: ['cls.seq_relationship.bias', 'cls.seq_relationship.weight']\n",
      "- This IS expected if you are initializing BertForMaskedLM from the checkpoint of a model trained on another task or with another architecture (e.g. initializing a BertForSequenceClassification model from a BertForPreTraining model).\n",
      "- This IS NOT expected if you are initializing BertForMaskedLM from the checkpoint of a model that you expect to be exactly identical (initializing a BertForSequenceClassification model from a BertForSequenceClassification model).\n"
     ]
    },
    {
     "data": {
      "text/plain": [
       "102290312"
      ]
     },
     "execution_count": 13,
     "metadata": {},
     "output_type": "execute_result"
    }
   ],
   "source": [
    "from model.mlm import BaseMLM\n",
    "\n",
    "model = BaseMLM(vocab_size=21128, pretrain=\"bert-base-chinese\")()\n",
    "model.num_parameters()"
   ]
  },
  {
   "cell_type": "code",
   "execution_count": 14,
   "id": "cd051a7a",
   "metadata": {},
   "outputs": [
    {
     "name": "stderr",
     "output_type": "stream",
     "text": [
      "/Users/maochenhui/miniforge3/envs/DL/lib/python3.8/site-packages/transformers/data/datasets/language_modeling.py:121: FutureWarning: This dataset will be removed from the library soon, preprocessing should be handled with the 🤗 Datasets library. You can have a look at this example script for pointers: https://github.com/huggingface/transformers/blob/master/examples/pytorch/language-modeling/run_mlm.py\n",
      "  warnings.warn(\n"
     ]
    },
    {
     "name": "stdout",
     "output_type": "stream",
     "text": [
      "No. of lines:  11772\n",
      "No. of lines:  1136\n"
     ]
    }
   ],
   "source": [
    "from transformers import LineByLineTextDataset\n",
    "from transformers import DataCollatorForLanguageModeling\n",
    "train_dataset = LineByLineTextDataset(tokenizer=tokenizer,\n",
    "                                file_path=\"./contents//chinese/train.txt\", \n",
    "                                block_size=512 # maximum sequence length\n",
    "                               )\n",
    "print('No. of lines: ', len(train_dataset)) # No of lines in your datset\n",
    "\n",
    "dev_dataset = LineByLineTextDataset(tokenizer=tokenizer, \n",
    "                                file_path=\"./contents//chinese/dev.txt\", \n",
    "                                block_size=512 # maximum sequence length\n",
    "                               )\n",
    "print('No. of lines: ', len(dev_dataset)) # No of lines in your datset\n",
    "\n",
    "data_collator = DataCollatorForLanguageModeling(\n",
    "    tokenizer=tokenizer, mlm=True, mlm_probability=0.15\n",
    ")"
   ]
  },
  {
   "cell_type": "code",
   "execution_count": 15,
   "id": "b659d76b",
   "metadata": {},
   "outputs": [
    {
     "data": {
      "text/plain": [
       "13"
      ]
     },
     "execution_count": 15,
     "metadata": {},
     "output_type": "execute_result"
    }
   ],
   "source": [
    "demo = next(iter(train_dataset))\n",
    "len(demo[\"input_ids\"])"
   ]
  },
  {
   "cell_type": "code",
   "execution_count": null,
   "id": "2ef964df",
   "metadata": {},
   "outputs": [
    {
     "name": "stdout",
     "output_type": "stream",
     "text": [
      "Saving output into ./Bert/runs\n",
      "huggingface/tokenizers: The current process just got forked, after parallelism has already been used. Disabling parallelism to avoid deadlocks...\n",
      "To disable this warning, you can either:\n",
      "\t- Avoid using `tokenizers` before the fork if possible\n",
      "\t- Explicitly set the environment variable TOKENIZERS_PARALLELISM=(true | false)\n"
     ]
    },
    {
     "name": "stderr",
     "output_type": "stream",
     "text": [
      "***** Running training *****\n",
      "  Num examples = 11772\n",
      "  Num Epochs = 100\n",
      "  Instantaneous batch size per device = 64\n",
      "  Total train batch size (w. parallel, distributed & accumulation) = 64\n",
      "  Gradient Accumulation steps = 1\n",
      "  Total optimization steps = 18400\n",
      "Automatic Weights & Biases logging enabled, to disable set os.environ[\"WANDB_DISABLED\"] = \"true\"\n"
     ]
    },
    {
     "name": "stdout",
     "output_type": "stream",
     "text": [
      "huggingface/tokenizers: The current process just got forked, after parallelism has already been used. Disabling parallelism to avoid deadlocks...\n",
      "To disable this warning, you can either:\n",
      "\t- Avoid using `tokenizers` before the fork if possible\n",
      "\t- Explicitly set the environment variable TOKENIZERS_PARALLELISM=(true | false)\n",
      "huggingface/tokenizers: The current process just got forked, after parallelism has already been used. Disabling parallelism to avoid deadlocks...\n",
      "To disable this warning, you can either:\n",
      "\t- Avoid using `tokenizers` before the fork if possible\n",
      "\t- Explicitly set the environment variable TOKENIZERS_PARALLELISM=(true | false)\n"
     ]
    },
    {
     "name": "stderr",
     "output_type": "stream",
     "text": [
      "\u001b[34m\u001b[1mwandb\u001b[0m: Currently logged in as: \u001b[33mmorris135212\u001b[0m (use `wandb login --relogin` to force relogin)\n"
     ]
    },
    {
     "name": "stdout",
     "output_type": "stream",
     "text": [
      "huggingface/tokenizers: The current process just got forked, after parallelism has already been used. Disabling parallelism to avoid deadlocks...\n",
      "To disable this warning, you can either:\n",
      "\t- Avoid using `tokenizers` before the fork if possible\n",
      "\t- Explicitly set the environment variable TOKENIZERS_PARALLELISM=(true | false)\n",
      "huggingface/tokenizers: The current process just got forked, after parallelism has already been used. Disabling parallelism to avoid deadlocks...\n",
      "To disable this warning, you can either:\n",
      "\t- Avoid using `tokenizers` before the fork if possible\n",
      "\t- Explicitly set the environment variable TOKENIZERS_PARALLELISM=(true | false)\n"
     ]
    },
    {
     "name": "stderr",
     "output_type": "stream",
     "text": [
      "\u001b[34m\u001b[1mwandb\u001b[0m: wandb version 0.12.21 is available!  To upgrade, please run:\n",
      "\u001b[34m\u001b[1mwandb\u001b[0m:  $ pip install wandb --upgrade\n"
     ]
    },
    {
     "data": {
      "text/html": [
       "\n",
       "                    Syncing run <strong><a href=\"https://wandb.ai/morris135212/huggingface/runs/17ary37p\" target=\"_blank\">./Bert/runs</a></strong> to <a href=\"https://wandb.ai/morris135212/huggingface\" target=\"_blank\">Weights & Biases</a> (<a href=\"https://docs.wandb.com/integrations/jupyter.html\" target=\"_blank\">docs</a>).<br/>\n",
       "\n",
       "                "
      ],
      "text/plain": [
       "<IPython.core.display.HTML object>"
      ]
     },
     "metadata": {},
     "output_type": "display_data"
    },
    {
     "data": {
      "text/html": [
       "\n",
       "    <div>\n",
       "      \n",
       "      <progress value='26' max='18400' style='width:300px; height:20px; vertical-align: middle;'></progress>\n",
       "      [   26/18400 07:21 < 93:48:01, 0.05 it/s, Epoch 0.14/100]\n",
       "    </div>\n",
       "    <table border=\"1\" class=\"dataframe\">\n",
       "  <thead>\n",
       "    <tr style=\"text-align: left;\">\n",
       "      <th>Step</th>\n",
       "      <th>Training Loss</th>\n",
       "    </tr>\n",
       "  </thead>\n",
       "  <tbody>\n",
       "  </tbody>\n",
       "</table><p>"
      ],
      "text/plain": [
       "<IPython.core.display.HTML object>"
      ]
     },
     "metadata": {},
     "output_type": "display_data"
    }
   ],
   "source": [
    "from train.mlm import MLMTrainer\n",
    "\n",
    "trainer = MLMTrainer(model=model, \n",
    "                     data_collator=data_collator, \n",
    "                     train_dataset=train_dataset,\n",
    "                     eval_dataset=dev_dataset,\n",
    "                     output_dir=\"./Bert\"\n",
    "                    )\n",
    "t = trainer()\n",
    "t.train()"
   ]
  },
  {
   "cell_type": "code",
   "execution_count": null,
   "id": "35cd7887",
   "metadata": {},
   "outputs": [],
   "source": []
  }
 ],
 "metadata": {
  "kernelspec": {
   "display_name": "Python 3 (ipykernel)",
   "language": "python",
   "name": "python3"
  },
  "language_info": {
   "codemirror_mode": {
    "name": "ipython",
    "version": 3
   },
   "file_extension": ".py",
   "mimetype": "text/x-python",
   "name": "python",
   "nbconvert_exporter": "python",
   "pygments_lexer": "ipython3",
   "version": "3.8.12"
  }
 },
 "nbformat": 4,
 "nbformat_minor": 5
}
